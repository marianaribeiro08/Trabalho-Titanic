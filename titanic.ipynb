{
 "cells": [
  {
   "metadata": {},
   "cell_type": "markdown",
   "source": [
    "# This is a sample Jupyter Notebook\n",
    "\n",
    "Below is an example of a code cell. \n",
    "Put your cursor into the cell and press Shift+Enter to execute it and select the next one, or click 'Run Cell' button.\n",
    "\n",
    "Press Double Shift to search everywhere for classes, files, tool windows, actions, and settings.\n",
    "\n",
    "To learn more about Jupyter Notebooks in PyCharm, see [help](https://www.jetbrains.com/help/pycharm/ipython-notebook-support.html).\n",
    "For an overview of PyCharm, go to Help -> Learn IDE features or refer to [our documentation](https://www.jetbrains.com/help/pycharm/getting-started.html)."
   ],
   "id": "8a77807f92f26ee"
  },
  {
   "metadata": {
    "ExecuteTime": {
     "end_time": "2025-08-26T23:42:35.204418Z",
     "start_time": "2025-08-26T23:42:35.139623Z"
    }
   },
   "cell_type": "code",
   "source": [
    "import matplotlib.pyplot as pd\n",
    "import pandas as pd\n",
    "import numpy as np\n",
    "import seaborn as sns\n",
    "df = pd.read_csv('titanic.csv')\n",
    "display(df.head())\n"
   ],
   "id": "fbc121e30a2defb3",
   "outputs": [
    {
     "data": {
      "text/plain": [
       "   PassengerId  Survived  Pclass  \\\n",
       "0            1         0       3   \n",
       "1            2         1       1   \n",
       "2            3         1       3   \n",
       "3            4         1       1   \n",
       "4            5         0       3   \n",
       "\n",
       "                                                Name     Sex   Age  SibSp  \\\n",
       "0                            Braund, Mr. Owen Harris    male  22.0      1   \n",
       "1  Cumings, Mrs. John Bradley (Florence Briggs Th...  female  38.0      1   \n",
       "2                             Heikkinen, Miss. Laina  female  26.0      0   \n",
       "3       Futrelle, Mrs. Jacques Heath (Lily May Peel)  female  35.0      1   \n",
       "4                           Allen, Mr. William Henry    male  35.0      0   \n",
       "\n",
       "   Parch            Ticket     Fare Cabin Embarked  \n",
       "0      0         A/5 21171   7.2500   NaN        S  \n",
       "1      0          PC 17599  71.2833   C85        C  \n",
       "2      0  STON/O2. 3101282   7.9250   NaN        S  \n",
       "3      0            113803  53.1000  C123        S  \n",
       "4      0            373450   8.0500   NaN        S  "
      ],
      "text/html": [
       "<div>\n",
       "<style scoped>\n",
       "    .dataframe tbody tr th:only-of-type {\n",
       "        vertical-align: middle;\n",
       "    }\n",
       "\n",
       "    .dataframe tbody tr th {\n",
       "        vertical-align: top;\n",
       "    }\n",
       "\n",
       "    .dataframe thead th {\n",
       "        text-align: right;\n",
       "    }\n",
       "</style>\n",
       "<table border=\"1\" class=\"dataframe\">\n",
       "  <thead>\n",
       "    <tr style=\"text-align: right;\">\n",
       "      <th></th>\n",
       "      <th>PassengerId</th>\n",
       "      <th>Survived</th>\n",
       "      <th>Pclass</th>\n",
       "      <th>Name</th>\n",
       "      <th>Sex</th>\n",
       "      <th>Age</th>\n",
       "      <th>SibSp</th>\n",
       "      <th>Parch</th>\n",
       "      <th>Ticket</th>\n",
       "      <th>Fare</th>\n",
       "      <th>Cabin</th>\n",
       "      <th>Embarked</th>\n",
       "    </tr>\n",
       "  </thead>\n",
       "  <tbody>\n",
       "    <tr>\n",
       "      <th>0</th>\n",
       "      <td>1</td>\n",
       "      <td>0</td>\n",
       "      <td>3</td>\n",
       "      <td>Braund, Mr. Owen Harris</td>\n",
       "      <td>male</td>\n",
       "      <td>22.0</td>\n",
       "      <td>1</td>\n",
       "      <td>0</td>\n",
       "      <td>A/5 21171</td>\n",
       "      <td>7.2500</td>\n",
       "      <td>NaN</td>\n",
       "      <td>S</td>\n",
       "    </tr>\n",
       "    <tr>\n",
       "      <th>1</th>\n",
       "      <td>2</td>\n",
       "      <td>1</td>\n",
       "      <td>1</td>\n",
       "      <td>Cumings, Mrs. John Bradley (Florence Briggs Th...</td>\n",
       "      <td>female</td>\n",
       "      <td>38.0</td>\n",
       "      <td>1</td>\n",
       "      <td>0</td>\n",
       "      <td>PC 17599</td>\n",
       "      <td>71.2833</td>\n",
       "      <td>C85</td>\n",
       "      <td>C</td>\n",
       "    </tr>\n",
       "    <tr>\n",
       "      <th>2</th>\n",
       "      <td>3</td>\n",
       "      <td>1</td>\n",
       "      <td>3</td>\n",
       "      <td>Heikkinen, Miss. Laina</td>\n",
       "      <td>female</td>\n",
       "      <td>26.0</td>\n",
       "      <td>0</td>\n",
       "      <td>0</td>\n",
       "      <td>STON/O2. 3101282</td>\n",
       "      <td>7.9250</td>\n",
       "      <td>NaN</td>\n",
       "      <td>S</td>\n",
       "    </tr>\n",
       "    <tr>\n",
       "      <th>3</th>\n",
       "      <td>4</td>\n",
       "      <td>1</td>\n",
       "      <td>1</td>\n",
       "      <td>Futrelle, Mrs. Jacques Heath (Lily May Peel)</td>\n",
       "      <td>female</td>\n",
       "      <td>35.0</td>\n",
       "      <td>1</td>\n",
       "      <td>0</td>\n",
       "      <td>113803</td>\n",
       "      <td>53.1000</td>\n",
       "      <td>C123</td>\n",
       "      <td>S</td>\n",
       "    </tr>\n",
       "    <tr>\n",
       "      <th>4</th>\n",
       "      <td>5</td>\n",
       "      <td>0</td>\n",
       "      <td>3</td>\n",
       "      <td>Allen, Mr. William Henry</td>\n",
       "      <td>male</td>\n",
       "      <td>35.0</td>\n",
       "      <td>0</td>\n",
       "      <td>0</td>\n",
       "      <td>373450</td>\n",
       "      <td>8.0500</td>\n",
       "      <td>NaN</td>\n",
       "      <td>S</td>\n",
       "    </tr>\n",
       "  </tbody>\n",
       "</table>\n",
       "</div>"
      ]
     },
     "metadata": {},
     "output_type": "display_data"
    }
   ],
   "execution_count": 9
  },
  {
   "metadata": {
    "ExecuteTime": {
     "end_time": "2025-08-26T23:42:45.681444Z",
     "start_time": "2025-08-26T23:42:45.549724Z"
    }
   },
   "cell_type": "code",
   "source": [
    "print(df.info())\n",
    "print(df.describe()) #estatísticas descritivas\n",
    "print(df['Sex'].value_counts()) #conta quantos de cada valor existem na coluna Sex.\n",
    "print(df['Embarked'].value_counts()) #conta quantos de cada valor existem na coluna Embarked\n",
    "print(df.isnull().sum()) #soma de valores nulos por coluna (útil para ver dados faltantes)."
   ],
   "id": "a9dc6b0e15b84910",
   "outputs": [
    {
     "name": "stdout",
     "output_type": "stream",
     "text": [
      "<class 'pandas.core.frame.DataFrame'>\n",
      "RangeIndex: 891 entries, 0 to 890\n",
      "Data columns (total 12 columns):\n",
      " #   Column       Non-Null Count  Dtype  \n",
      "---  ------       --------------  -----  \n",
      " 0   PassengerId  891 non-null    int64  \n",
      " 1   Survived     891 non-null    int64  \n",
      " 2   Pclass       891 non-null    int64  \n",
      " 3   Name         891 non-null    object \n",
      " 4   Sex          891 non-null    object \n",
      " 5   Age          714 non-null    float64\n",
      " 6   SibSp        891 non-null    int64  \n",
      " 7   Parch        891 non-null    int64  \n",
      " 8   Ticket       891 non-null    object \n",
      " 9   Fare         891 non-null    float64\n",
      " 10  Cabin        204 non-null    object \n",
      " 11  Embarked     889 non-null    object \n",
      "dtypes: float64(2), int64(5), object(5)\n",
      "memory usage: 83.7+ KB\n",
      "None\n",
      "       PassengerId    Survived      Pclass         Age       SibSp  \\\n",
      "count   891.000000  891.000000  891.000000  714.000000  891.000000   \n",
      "mean    446.000000    0.383838    2.308642   29.699118    0.523008   \n",
      "std     257.353842    0.486592    0.836071   14.526497    1.102743   \n",
      "min       1.000000    0.000000    1.000000    0.420000    0.000000   \n",
      "25%     223.500000    0.000000    2.000000   20.125000    0.000000   \n",
      "50%     446.000000    0.000000    3.000000   28.000000    0.000000   \n",
      "75%     668.500000    1.000000    3.000000   38.000000    1.000000   \n",
      "max     891.000000    1.000000    3.000000   80.000000    8.000000   \n",
      "\n",
      "            Parch        Fare  \n",
      "count  891.000000  891.000000  \n",
      "mean     0.381594   32.204208  \n",
      "std      0.806057   49.693429  \n",
      "min      0.000000    0.000000  \n",
      "25%      0.000000    7.910400  \n",
      "50%      0.000000   14.454200  \n",
      "75%      0.000000   31.000000  \n",
      "max      6.000000  512.329200  \n",
      "Sex\n",
      "male      577\n",
      "female    314\n",
      "Name: count, dtype: int64\n",
      "Embarked\n",
      "S    644\n",
      "C    168\n",
      "Q     77\n",
      "Name: count, dtype: int64\n",
      "PassengerId      0\n",
      "Survived         0\n",
      "Pclass           0\n",
      "Name             0\n",
      "Sex              0\n",
      "Age            177\n",
      "SibSp            0\n",
      "Parch            0\n",
      "Ticket           0\n",
      "Fare             0\n",
      "Cabin          687\n",
      "Embarked         2\n",
      "dtype: int64\n"
     ]
    }
   ],
   "execution_count": 10
  },
  {
   "metadata": {
    "ExecuteTime": {
     "end_time": "2025-08-26T23:45:16.128571Z",
     "start_time": "2025-08-26T23:45:16.093063Z"
    }
   },
   "cell_type": "code",
   "source": [
    "df = df.drop_duplicates() #remove linhas duplicadas\n",
    "df['Age'].fillna(df['Age'].median(), #preenche valores ausentes na coluna Age com a mediana dessa coluna\n",
    "                 inplace=True)\n",
    "df['Embarked'].fillna(df['Embarked'].mode() #preenche valores ausentes na coluna Embarked com o valor mais frequente\n",
    "                      [0], inplace=True)\n",
    "df = df.drop(columns=['deck', 'embark_town', 'alive', 'who', 'adult_male', 'alone'], errors='ignore')\n",
    "df['Survived'] = df['Survived'].astype(bool) #converte a coluna Survived para tipo booleano\n",
    "print(df.isnull().sum()) #imprime novamente a soma de nulos por coluna\n"
   ],
   "id": "a216e2b5bbaa4555",
   "outputs": [
    {
     "name": "stdout",
     "output_type": "stream",
     "text": [
      "PassengerId      0\n",
      "Survived         0\n",
      "Pclass           0\n",
      "Name             0\n",
      "Sex              0\n",
      "Age              0\n",
      "SibSp            0\n",
      "Parch            0\n",
      "Ticket           0\n",
      "Fare             0\n",
      "Cabin          687\n",
      "Embarked         0\n",
      "dtype: int64\n"
     ]
    },
    {
     "name": "stderr",
     "output_type": "stream",
     "text": [
      "C:\\Users\\04876\\AppData\\Local\\Temp\\ipykernel_7728\\881579389.py:2: FutureWarning: A value is trying to be set on a copy of a DataFrame or Series through chained assignment using an inplace method.\n",
      "The behavior will change in pandas 3.0. This inplace method will never work because the intermediate object on which we are setting values always behaves as a copy.\n",
      "\n",
      "For example, when doing 'df[col].method(value, inplace=True)', try using 'df.method({col: value}, inplace=True)' or df[col] = df[col].method(value) instead, to perform the operation inplace on the original object.\n",
      "\n",
      "\n",
      "  df['Age'].fillna(df['Age'].median(), #preenche valores ausentes na coluna Age com a mediana dessa coluna\n",
      "C:\\Users\\04876\\AppData\\Local\\Temp\\ipykernel_7728\\881579389.py:4: FutureWarning: A value is trying to be set on a copy of a DataFrame or Series through chained assignment using an inplace method.\n",
      "The behavior will change in pandas 3.0. This inplace method will never work because the intermediate object on which we are setting values always behaves as a copy.\n",
      "\n",
      "For example, when doing 'df[col].method(value, inplace=True)', try using 'df.method({col: value}, inplace=True)' or df[col] = df[col].method(value) instead, to perform the operation inplace on the original object.\n",
      "\n",
      "\n",
      "  df['Embarked'].fillna(df['Embarked'].mode() #preenche valores ausentes na coluna Embarked com o valor mais frequente\n"
     ]
    }
   ],
   "execution_count": 13
  },
  {
   "metadata": {
    "ExecuteTime": {
     "end_time": "2025-08-26T23:52:09.463862Z",
     "start_time": "2025-08-26T23:52:09.405881Z"
    }
   },
   "cell_type": "code",
   "source": [
    "# Criando nova coluna: Faixa etária\n",
    "def categorize_age(age):\n",
    "    if age < 18: return 'Criança'\n",
    "    elif age < 60: return 'Adulto'\n",
    "    else: return 'Idoso'\n",
    "df['faixa_etaria'] = df['Age'].apply(categorize_age)\n",
    "# Filtrando dados: Somente sobreviventes\n",
    "Survivors = df[df['Survived'] == True]\n",
    "print(Survivors.head())"
   ],
   "id": "6564fdd0ba79ec8c",
   "outputs": [
    {
     "name": "stdout",
     "output_type": "stream",
     "text": [
      "   PassengerId  Survived  Pclass  \\\n",
      "1            2      True       1   \n",
      "2            3      True       3   \n",
      "3            4      True       1   \n",
      "8            9      True       3   \n",
      "9           10      True       2   \n",
      "\n",
      "                                                Name     Sex   Age  SibSp  \\\n",
      "1  Cumings, Mrs. John Bradley (Florence Briggs Th...  female  38.0      1   \n",
      "2                             Heikkinen, Miss. Laina  female  26.0      0   \n",
      "3       Futrelle, Mrs. Jacques Heath (Lily May Peel)  female  35.0      1   \n",
      "8  Johnson, Mrs. Oscar W (Elisabeth Vilhelmina Berg)  female  27.0      0   \n",
      "9                Nasser, Mrs. Nicholas (Adele Achem)  female  14.0      1   \n",
      "\n",
      "   Parch            Ticket     Fare Cabin Embarked faixa_etaria  \n",
      "1      0          PC 17599  71.2833   C85        C       Adulto  \n",
      "2      0  STON/O2. 3101282   7.9250   NaN        S       Adulto  \n",
      "3      0            113803  53.1000  C123        S       Adulto  \n",
      "8      2            347742  11.1333   NaN        S       Adulto  \n",
      "9      0            237736  30.0708   NaN        C      Criança  \n"
     ]
    }
   ],
   "execution_count": 24
  },
  {
   "metadata": {
    "ExecuteTime": {
     "end_time": "2025-08-26T23:55:15.512254Z",
     "start_time": "2025-08-26T23:55:15.383657Z"
    }
   },
   "cell_type": "code",
   "source": [
    "grouped = df.groupby(['Pclass', 'Sex']).agg({'Survived': 'mean', 'Age': 'mean', 'Fare': 'median'}).reset_index()\n",
    "print(grouped)\n",
    "print(df.sort_values(by='fare',\n",
    "                     ascending=False).head())"
   ],
   "id": "ef6a8844d6b761c5",
   "outputs": [
    {
     "name": "stdout",
     "output_type": "stream",
     "text": [
      "   Pclass     Sex  Survived        Age      Fare\n",
      "0       1  female  0.968085  33.978723  82.66455\n",
      "1       1    male  0.368852  38.995246  41.26250\n",
      "2       2  female  0.921053  28.703947  22.00000\n",
      "3       2    male  0.157407  30.512315  13.00000\n",
      "4       3  female  0.500000  23.572917  12.47500\n",
      "5       3    male  0.135447  26.911873   7.92500\n"
     ]
    },
    {
     "ename": "KeyError",
     "evalue": "'fare'",
     "output_type": "error",
     "traceback": [
      "\u001B[31m---------------------------------------------------------------------------\u001B[39m",
      "\u001B[31mKeyError\u001B[39m                                  Traceback (most recent call last)",
      "\u001B[32m~\\AppData\\Local\\Temp\\ipykernel_7728\\288681970.py\u001B[39m in \u001B[36m?\u001B[39m\u001B[34m()\u001B[39m\n\u001B[32m      1\u001B[39m grouped = df.groupby([\u001B[33m'Pclass'\u001B[39m, \u001B[33m'Sex'\u001B[39m]).agg({\u001B[33m'Survived'\u001B[39m: \u001B[33m'mean'\u001B[39m, \u001B[33m'Age'\u001B[39m: \u001B[33m'mean'\u001B[39m, \u001B[33m'Fare'\u001B[39m: \u001B[33m'median'\u001B[39m}).reset_index()\n\u001B[32m      2\u001B[39m print(grouped)\n\u001B[32m----> \u001B[39m\u001B[32m3\u001B[39m print(df.sort_values(by='fare',\n\u001B[32m      4\u001B[39m                      ascending=\u001B[38;5;28;01mFalse\u001B[39;00m).head())\n",
      "\u001B[32m~\\PyCharmMiscProject\\.venv\\Lib\\site-packages\\pandas\\core\\frame.py\u001B[39m in \u001B[36m?\u001B[39m\u001B[34m(self, by, axis, ascending, inplace, kind, na_position, ignore_index, key)\u001B[39m\n\u001B[32m   7192\u001B[39m             )\n\u001B[32m   7193\u001B[39m         \u001B[38;5;28;01melif\u001B[39;00m len(by):\n\u001B[32m   7194\u001B[39m             \u001B[38;5;66;03m# len(by) == 1\u001B[39;00m\n\u001B[32m   7195\u001B[39m \n\u001B[32m-> \u001B[39m\u001B[32m7196\u001B[39m             k = self._get_label_or_level_values(by[\u001B[32m0\u001B[39m], axis=axis)\n\u001B[32m   7197\u001B[39m \n\u001B[32m   7198\u001B[39m             \u001B[38;5;66;03m# need to rewrap column in Series to apply key function\u001B[39;00m\n\u001B[32m   7199\u001B[39m             \u001B[38;5;28;01mif\u001B[39;00m key \u001B[38;5;28;01mis\u001B[39;00m \u001B[38;5;28;01mnot\u001B[39;00m \u001B[38;5;28;01mNone\u001B[39;00m:\n",
      "\u001B[32m~\\PyCharmMiscProject\\.venv\\Lib\\site-packages\\pandas\\core\\generic.py\u001B[39m in \u001B[36m?\u001B[39m\u001B[34m(self, key, axis)\u001B[39m\n\u001B[32m   1907\u001B[39m             values = self.xs(key, axis=other_axes[\u001B[32m0\u001B[39m])._values\n\u001B[32m   1908\u001B[39m         \u001B[38;5;28;01melif\u001B[39;00m self._is_level_reference(key, axis=axis):\n\u001B[32m   1909\u001B[39m             values = self.axes[axis].get_level_values(key)._values\n\u001B[32m   1910\u001B[39m         \u001B[38;5;28;01melse\u001B[39;00m:\n\u001B[32m-> \u001B[39m\u001B[32m1911\u001B[39m             \u001B[38;5;28;01mraise\u001B[39;00m KeyError(key)\n\u001B[32m   1912\u001B[39m \n\u001B[32m   1913\u001B[39m         \u001B[38;5;66;03m# Check for duplicates\u001B[39;00m\n\u001B[32m   1914\u001B[39m         \u001B[38;5;28;01mif\u001B[39;00m values.ndim > \u001B[32m1\u001B[39m:\n",
      "\u001B[31mKeyError\u001B[39m: 'fare'"
     ]
    }
   ],
   "execution_count": 28
  },
  {
   "metadata": {
    "ExecuteTime": {
     "end_time": "2025-08-26T23:56:16.791525Z",
     "start_time": "2025-08-26T23:56:16.510465Z"
    }
   },
   "cell_type": "code",
   "source": [
    "from matplotlib import pyplot as plt\n",
    "\n",
    "# Configurando estilo do Seaborn\n",
    "sns.set(style='whitegrid')\n",
    "\n",
    "# Gráfico 1: Contagem de sobreviventes por sexo\n",
    "plt.figure(figsize=(8, 5))\n",
    "sns.countplot(data=df, x='Sex',\n",
    "              hue='urvived', palette='Set2')\n",
    "plt.title('Sobreviventes por Sexo')\n",
    "plt.xlabel('Sexo')\n",
    "plt.ylabel('Contagem')\n",
    "plt.show()"
   ],
   "id": "94c4bcab7a8e1cc8",
   "outputs": [
    {
     "data": {
      "text/plain": [
       "<Figure size 800x500 with 1 Axes>"
      ],
      "image/png": "[encoded data removed]"
     },
     "metadata": {},
     "output_type": "display_data"
    }
   ],
   "execution_count": 31
  },
  {
   "metadata": {
    "ExecuteTime": {
     "end_time": "2025-08-27T00:00:06.221273Z",
     "start_time": "2025-08-27T00:00:04.791740Z"
    }
   },
   "cell_type": "code",
   "source": [
    "# Gráfico 2: Boxplot de idade por classe social e sobrevivência\n",
    "plt.figure(figsize=(8, 5))\n",
    "sns.boxplot(data=df, x='Pclass', y='Age',\n",
    "            hue='Survived', palette='Pastel1')\n",
    "plt.title('Distribuição de Idade por Classe e Sobrevivência')\n",
    "plt.xlabel('Classe Social')\n",
    "plt.ylabel('Idade')\n",
    "plt.show()\n",
    "\n",
    "# Gráfico 3: Mapa de calor de correlações\n",
    "# (somente numéricos)\n",
    "numeric_df = df.select_dtypes\n",
    "df.select_dtypes(include=['float64', 'int64'])\n",
    "corr = numeric_df.corr()\n",
    "plt.figure(figsize=(10, 8))\n",
    "sns.heatmap(corr, annot=True, cmap='coolwarm')\n",
    "plt.title('Mapa de Correlações')\n",
    "plt.show()\n",
    "\n",
    "# Gráfico 4: Pairplot para relações múltiplas\n",
    "sns.pairplot(df, vars=['age', 'fare'],\n",
    "             hue='survived', palette='husl')\n",
    "plt.suptitle('Relações entre Idade, Tarifa e Sobrevivência')\n",
    "plt.show()"
   ],
   "id": "481a247bef595032",
   "outputs": [
    {
     "data": {
      "text/plain": [
       "<Figure size 800x500 with 1 Axes>"
      ],
      "image/png": "[encoded data removed]"
     },
     "metadata": {},
     "output_type": "display_data"
    },
    {
     "ename": "AttributeError",
     "evalue": "'function' object has no attribute 'corr'",
     "output_type": "error",
     "traceback": [
      "\u001B[31m---------------------------------------------------------------------------\u001B[39m",
      "\u001B[31mAttributeError\u001B[39m                            Traceback (most recent call last)",
      "\u001B[36mCell\u001B[39m\u001B[36m \u001B[39m\u001B[32mIn[36]\u001B[39m\u001B[32m, line 14\u001B[39m\n\u001B[32m     12\u001B[39m numeric_df = df.select_dtypes\n\u001B[32m     13\u001B[39m df.select_dtypes(include=[\u001B[33m'\u001B[39m\u001B[33mfloat64\u001B[39m\u001B[33m'\u001B[39m, \u001B[33m'\u001B[39m\u001B[33mint64\u001B[39m\u001B[33m'\u001B[39m])\n\u001B[32m---> \u001B[39m\u001B[32m14\u001B[39m corr = \u001B[43mnumeric_df\u001B[49m\u001B[43m.\u001B[49m\u001B[43mcorr\u001B[49m()\n\u001B[32m     15\u001B[39m plt.figure(figsize=(\u001B[32m10\u001B[39m, \u001B[32m8\u001B[39m))\n\u001B[32m     16\u001B[39m sns.heatmap(corr, annot=\u001B[38;5;28;01mTrue\u001B[39;00m, cmap=\u001B[33m'\u001B[39m\u001B[33mcoolwarm\u001B[39m\u001B[33m'\u001B[39m)\n",
      "\u001B[31mAttributeError\u001B[39m: 'function' object has no attribute 'corr'"
     ]
    }
   ],
   "execution_count": 36
  },
  {
   "metadata": {},
   "cell_type": "code",
   "outputs": [],
   "execution_count": null,
   "source": "\n",
   "id": "3427f8a7b69c15bb"
  }
 ],
 "metadata": {
  "kernelspec": {
   "display_name": "Python 3",
   "language": "python",
   "name": "python3"
  },
  "language_info": {
   "codemirror_mode": {
    "name": "ipython",
    "version": 2
   },
   "file_extension": ".py",
   "mimetype": "text/x-python",
   "name": "python",
   "nbconvert_exporter": "python",
   "pygments_lexer": "ipython2",
   "version": "2.7.6"
  }
 },
 "nbformat": 4,
 "nbformat_minor": 5
}
